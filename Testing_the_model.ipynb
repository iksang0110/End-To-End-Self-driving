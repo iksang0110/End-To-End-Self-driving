{
 "cells": [
  {
   "cell_type": "markdown",
   "metadata": {},
   "source": [
    "# Testing The trained Model "
   ]
  },
  {
   "cell_type": "code",
   "execution_count": 1,
   "metadata": {},
   "outputs": [
    {
     "name": "stderr",
     "output_type": "stream",
     "text": [
      "Using TensorFlow backend.\n"
     ]
    }
   ],
   "source": [
    "import base64\n",
    "from datetime import datetime\n",
    "import os\n",
    "import shutil\n",
    "import numpy as np\n",
    "import airsim\n",
    "\n",
    "from keras.models import load_model\n",
    "#helper class\n",
    "import utils\n"
   ]
  },
  {
   "cell_type": "code",
   "execution_count": 4,
   "metadata": {},
   "outputs": [],
   "source": [
    "class Road():\n",
    "    def __init__(self):\n",
    "        \n",
    "        self.count = 0\n",
    "        self.rgb_map = 0.1\n",
    "        self.prev_frame_time = 0\n",
    "        self.new_frame_time = 0\n",
    "        \n",
    "        self.model_pretrained = load_model('./best_model.h5')\n",
    "        \n",
    "        self.client = airsim.CarClient()\n",
    "        \n",
    "        self.client.confirmConnection()\n",
    "        self.client.enableApiControl(True)\n",
    "        self.car_controls = airsim.CarControls()\n",
    "        \n",
    "    def getScreenRGB(self):\n",
    "        responses = self.client.simGetImages([airsim.ImageRequest(\"2\", airsim.ImageType.Scene, False, False)])\n",
    "        responses1 = self.client.simGetImages([airsim.ImageRequest(0, airsim.ImageType.Segmentation, False, False)])\n",
    "        response = responses[0]\n",
    "        img1d = np.fromstring(response.image_data_uint8, dtype=np.uint8)\n",
    "        if ((responses[0].width != 0 or responses[0].height != 0)):\n",
    "            rgb = img1d.reshape(response.height, response.width, 3)\n",
    "           # rgb = cv2.cvtColor(img_rgba, cv2.COLOR_BGR2RGB)\n",
    "        else:\n",
    "            print(\"Something bad happened! Restting AirSim!\")\n",
    "            self.AirSim_reset()\n",
    "            rgb = np.ones(480, 640, 3)\n",
    "        \n",
    "\n",
    "        return rgb\n",
    "    \n",
    "    def Drive(self):\n",
    "        \n",
    "        image=self.getScreenRGB()\n",
    "        image = utils.preprocess(image) # apply the preprocessing\n",
    "        image = np.array([image])       # the model expects 4D array\n",
    "        steering_angle = float(self.model_pretrained.predict(image, batch_size=1))\n",
    "        self.car_controls.throttle = 0.3\n",
    "        self.car_controls.steering = steering_angle\n",
    "        self.client.setCarControls(self.car_controls)\n",
    "\n",
    "        "
   ]
  },
  {
   "cell_type": "code",
   "execution_count": null,
   "metadata": {},
   "outputs": [
    {
     "name": "stdout",
     "output_type": "stream",
     "text": [
      "Connected!\n",
      "Client Ver:1 (Min Req: 1), Server Ver:1 (Min Req: 1)\n",
      "\n"
     ]
    },
    {
     "name": "stderr",
     "output_type": "stream",
     "text": [
      "C:\\Users\\caias\\Anaconda3\\lib\\site-packages\\ipykernel_launcher.py:21: DeprecationWarning: The binary mode of fromstring is deprecated, as it behaves surprisingly on unicode inputs. Use frombuffer instead\n"
     ]
    }
   ],
   "source": [
    "tensor = Road()\n",
    "while(1):  \n",
    "    tensor.Drive()\n",
    "  "
   ]
  },
  {
   "cell_type": "code",
   "execution_count": null,
   "metadata": {},
   "outputs": [],
   "source": []
  }
 ],
 "metadata": {
  "kernelspec": {
   "display_name": "Python 3",
   "language": "python",
   "name": "python3"
  },
  "language_info": {
   "codemirror_mode": {
    "name": "ipython",
    "version": 3
   },
   "file_extension": ".py",
   "mimetype": "text/x-python",
   "name": "python",
   "nbconvert_exporter": "python",
   "pygments_lexer": "ipython3",
   "version": "3.6.5"
  }
 },
 "nbformat": 4,
 "nbformat_minor": 2
}
